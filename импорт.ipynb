{
  "nbformat": 4,
  "nbformat_minor": 0,
  "metadata": {
    "colab": {
      "name": "импорт.ipynb",
      "provenance": [],
      "authorship_tag": "ABX9TyO4rrPg7kTvstXyUP2qtkh8",
      "include_colab_link": true
    },
    "kernelspec": {
      "name": "python3",
      "display_name": "Python 3"
    }
  },
  "cells": [
    {
      "cell_type": "markdown",
      "metadata": {
        "id": "view-in-github",
        "colab_type": "text"
      },
      "source": [
        "<a href=\"https://colab.research.google.com/github/UlianaBu/tasks/blob/master/%D0%B8%D0%BC%D0%BF%D0%BE%D1%80%D1%82.ipynb\" target=\"_parent\"><img src=\"https://colab.research.google.com/assets/colab-badge.svg\" alt=\"Open In Colab\"/></a>"
      ]
    },
    {
      "cell_type": "markdown",
      "metadata": {
        "id": "PZAUcQZAL8J3"
      },
      "source": [
        "# ФИО исполнителя, время выполнения, суть проекта\r\n",
        "Используется\r\n",
        "\r\n",
        "https://gspread.readthedocs.io/en/latest/api.html?highlight=DataFrame.from_records#models\r\n",
        "\r\n",
        "**Исполнитель:** \r\n",
        "\r\n",
        "Бурлак Ульяна Александровна 20БИ-2\r\n",
        "\r\n",
        "**Дата начала работы:**\r\n",
        "\r\n",
        "Wed Mar  3 14:02:45 MSK 2021\r\n",
        "\r\n",
        " **Краткое описание проекта:**\r\n",
        "\r\n",
        "  батутный центр \"Jumper\" в городе Сокол с населением 36 тысяч человек\r\n"
      ]
    },
    {
      "cell_type": "code",
      "metadata": {
        "colab": {
          "base_uri": "https://localhost:8080/"
        },
        "id": "aBaIKbgVFpCW",
        "outputId": "75817608-2a73-4413-bb87-fd22cc215c8f"
      },
      "source": [
        "#https://gspread.readthedocs.io/en/latest/api.html?highlight=DataFrame.from_records#models\r\n",
        "from google.colab import auth\r\n",
        "auth.authenticate_user()\r\n",
        "!pip install --upgrade gspread\r\n",
        "import gspread\r\n",
        "from google.colab import drive\r\n",
        "drive.mount('/content/drive')\r\n",
        "import os\r\n",
        "print(os.getcwd())\r\n",
        "print(os.listdir('./'))\r\n",
        "print(os.listdir('/content/drive'))\r\n",
        "print(os.listdir('/content/drive/MyDrive/SWOT'))\r\n",
        "%ll -lF /content/drive/MyDrive/SWOT\r\n",
        "from oauth2client.client import GoogleCredentials\r\n",
        "gs = gspread.authorize(GoogleCredentials.get_application_default())\r\n",
        "!ln -fs /usr/share/zoneinfo/Europe/Moscow /etc/localtime\r\n",
        "!date"
      ],
      "execution_count": null,
      "outputs": [
        {
          "output_type": "stream",
          "text": [
            "Requirement already up-to-date: gspread in /usr/local/lib/python3.7/dist-packages (3.7.0)\n",
            "Requirement already satisfied, skipping upgrade: google-auth>=1.12.0 in /usr/local/lib/python3.7/dist-packages (from gspread) (1.27.0)\n",
            "Requirement already satisfied, skipping upgrade: google-auth-oauthlib>=0.4.1 in /usr/local/lib/python3.7/dist-packages (from gspread) (0.4.2)\n",
            "Requirement already satisfied, skipping upgrade: setuptools>=40.3.0 in /usr/local/lib/python3.7/dist-packages (from google-auth>=1.12.0->gspread) (54.0.0)\n",
            "Requirement already satisfied, skipping upgrade: six>=1.9.0 in /usr/local/lib/python3.7/dist-packages (from google-auth>=1.12.0->gspread) (1.15.0)\n",
            "Requirement already satisfied, skipping upgrade: rsa<5,>=3.1.4; python_version >= \"3.6\" in /usr/local/lib/python3.7/dist-packages (from google-auth>=1.12.0->gspread) (4.7.2)\n",
            "Requirement already satisfied, skipping upgrade: cachetools<5.0,>=2.0.0 in /usr/local/lib/python3.7/dist-packages (from google-auth>=1.12.0->gspread) (4.2.1)\n",
            "Requirement already satisfied, skipping upgrade: pyasn1-modules>=0.2.1 in /usr/local/lib/python3.7/dist-packages (from google-auth>=1.12.0->gspread) (0.2.8)\n",
            "Requirement already satisfied, skipping upgrade: requests-oauthlib>=0.7.0 in /usr/local/lib/python3.7/dist-packages (from google-auth-oauthlib>=0.4.1->gspread) (1.3.0)\n",
            "Requirement already satisfied, skipping upgrade: pyasn1>=0.1.3 in /usr/local/lib/python3.7/dist-packages (from rsa<5,>=3.1.4; python_version >= \"3.6\"->google-auth>=1.12.0->gspread) (0.4.8)\n",
            "Requirement already satisfied, skipping upgrade: oauthlib>=3.0.0 in /usr/local/lib/python3.7/dist-packages (from requests-oauthlib>=0.7.0->google-auth-oauthlib>=0.4.1->gspread) (3.1.0)\n",
            "Requirement already satisfied, skipping upgrade: requests>=2.0.0 in /usr/local/lib/python3.7/dist-packages (from requests-oauthlib>=0.7.0->google-auth-oauthlib>=0.4.1->gspread) (2.23.0)\n",
            "Requirement already satisfied, skipping upgrade: idna<3,>=2.5 in /usr/local/lib/python3.7/dist-packages (from requests>=2.0.0->requests-oauthlib>=0.7.0->google-auth-oauthlib>=0.4.1->gspread) (2.10)\n",
            "Requirement already satisfied, skipping upgrade: certifi>=2017.4.17 in /usr/local/lib/python3.7/dist-packages (from requests>=2.0.0->requests-oauthlib>=0.7.0->google-auth-oauthlib>=0.4.1->gspread) (2020.12.5)\n",
            "Requirement already satisfied, skipping upgrade: urllib3!=1.25.0,!=1.25.1,<1.26,>=1.21.1 in /usr/local/lib/python3.7/dist-packages (from requests>=2.0.0->requests-oauthlib>=0.7.0->google-auth-oauthlib>=0.4.1->gspread) (1.24.3)\n",
            "Requirement already satisfied, skipping upgrade: chardet<4,>=3.0.2 in /usr/local/lib/python3.7/dist-packages (from requests>=2.0.0->requests-oauthlib>=0.7.0->google-auth-oauthlib>=0.4.1->gspread) (3.0.4)\n",
            "Drive already mounted at /content/drive; to attempt to forcibly remount, call drive.mount(\"/content/drive\", force_remount=True).\n",
            "/content\n",
            "['.config', 'drive', 'adc.json', 'sample_data']\n",
            "['.shortcut-targets-by-id', 'MyDrive', '.file-revisions-by-id', '.Trash']\n",
            "['try.xlsx', 'импорт.ipynb', 'task.gsheet']\n",
            "total 36\n",
            "-rw------- 1 root   151 Mar  3 14:01 task.gsheet\n",
            "-rw------- 1 root 24786 Mar  3 13:52 try.xlsx\n",
            "-rw------- 1 root 10947 Mar  3 14:02 импорт.ipynb\n",
            "Wed Mar  3 14:02:45 MSK 2021\n"
          ],
          "name": "stdout"
        }
      ]
    },
    {
      "cell_type": "markdown",
      "metadata": {
        "id": "EAcBNpTdMHTm"
      },
      "source": [
        "# Связь и обмен с Google-диском, отображение используемых ресурсов\r\n"
      ]
    },
    {
      "cell_type": "code",
      "metadata": {
        "colab": {
          "base_uri": "https://localhost:8080/"
        },
        "id": "eJIll31ZMQYn",
        "outputId": "b6fbf1b0-e3fc-4fed-f862-e1116b31b6ca"
      },
      "source": [
        "import os\r\n",
        "import time\r\n",
        "print('\\nРабота с таблицей по проекту \"Jumper\"')\r\n",
        "%ll -lAF /content/drive/MyDrive/SWOT\r\n",
        "try:\r\n",
        "  os.stat('/content/drive/MyDrive/SWOT/task.gsheet')\r\n",
        "  table = gs.open_by_key('1PHrn4zkBuGAf5MQeIXnogIXs3GhGyu0dKSnDt3Epvro')\r\n",
        "except Exception as mistake:\r\n",
        "    print('\\n',mistake)\r\n",
        "    print(\"Необходимо создать таблицу\\n\")\r\n",
        "    #%rm -r /content/drive/MyDrive/task_01.gsheet1\r\n",
        "    %ll -lAF /content/drive/MyDrive/\r\n",
        "    gs_01 = gs.create('table_01')\r\n",
        "    time.sleep(30)\r\n",
        "    %ll -lAF /content/drive/MyDrive/\r\n",
        "    print(gs_01)\r\n",
        "    print (gs_01.id)\r\n",
        "    print(dir(gs_01))\r\n",
        "    %ll -lAF /content/drive/MyDrive/SWOT/task\r\n",
        "    %mv  /content/drive/MyDrive/task_01.gsheet /content/drive/MyDrive/SWOT/task/\r\n",
        "    %ll -lAF /content/drive/MyDrive/SWOT/task/\r\n",
        "print(dir(table))"
      ],
      "execution_count": null,
      "outputs": [
        {
          "output_type": "stream",
          "text": [
            "\n",
            "Работа с таблицей по проекту \"Jumper\"\n",
            "total 13\n",
            "-rw------- 1 root   151 Mar  3 14:22 task.gsheet\n",
            "-rw------- 1 root 12524 Mar  3 14:21 импорт.ipynb\n",
            "['__class__', '__delattr__', '__dict__', '__dir__', '__doc__', '__eq__', '__format__', '__ge__', '__getattribute__', '__gt__', '__hash__', '__init__', '__init_subclass__', '__iter__', '__le__', '__lt__', '__module__', '__ne__', '__new__', '__reduce__', '__reduce_ex__', '__repr__', '__setattr__', '__sizeof__', '__str__', '__subclasshook__', '__weakref__', '_properties', '_spreadsheets_get', '_spreadsheets_sheets_copy_to', 'add_worksheet', 'batch_update', 'client', 'del_worksheet', 'duplicate_sheet', 'fetch_sheet_metadata', 'get_worksheet', 'id', 'list_permissions', 'remove_permissions', 'reorder_worksheets', 'share', 'sheet1', 'title', 'updated', 'url', 'values_append', 'values_batch_get', 'values_batch_update', 'values_clear', 'values_get', 'values_update', 'worksheet', 'worksheets']\n"
          ],
          "name": "stdout"
        }
      ]
    },
    {
      "cell_type": "markdown",
      "metadata": {
        "id": "npa4HGN9_ZGM"
      },
      "source": [
        "# Лист STRENGTHS"
      ]
    },
    {
      "cell_type": "code",
      "metadata": {
        "colab": {
          "base_uri": "https://localhost:8080/"
        },
        "id": "rVJmqCPY0deP",
        "outputId": "7a552739-8c8b-4595-dd62-5933027949a2"
      },
      "source": [
        "print('\\nРаботаем с листом STRENGTHS')\r\n",
        "print(table.worksheets())\r\n",
        "#worksheet = table.worksheet('list1')\r\n",
        "#table.del_worksheet(worksheet)\r\n",
        "try:\r\n",
        "  worksheet = table.worksheet('STRENGTHS')\r\n",
        "except Exception as mistake:\r\n",
        "    print('\\n',mistake)\r\n",
        "    print(\"Необходимо создать лист\\n\")\r\n",
        "    worksheet = table.add_worksheet(\"STRENGTHS\",100,100)\r\n",
        "print(dir(worksheet))\r\n",
        "rows = worksheet.get_all_values()\r\n",
        "\r\n",
        "#Вносим данные importance и probability в таблицу\r\n",
        "value_sh = [[8,0.7],[9,1],[4,0.5],[10,0.8],[5,0.3],[3,0.8]]\r\n",
        "print(value_sh)\r\n",
        "cell_list = 'C2'\r\n",
        "print(cell_list)\r\n",
        "worksheet.update(cell_list, value_sh)\r\n",
        "\r\n",
        "b = 0\r\n",
        "print(\"\\nВывод таблицы\")\r\n",
        "for row in rows:\r\n",
        "  print(row)\r\n",
        "  b += 1\r\n",
        "\r\n",
        "print(\"\\n\")\r\n",
        "time.sleep(10)\r\n",
        "%ll -lAF /content/drive/MyDrive/SWOT\r\n",
        "os.listdir('/content/drive/MyDrive/SWOT')\r\n",
        "!date"
      ],
      "execution_count": null,
      "outputs": [
        {
          "output_type": "stream",
          "text": [
            "\n",
            "Работаем с листом STRENGTHS\n",
            "[<Worksheet 'STRENGTHS' id:686429458>, <Worksheet 'WEAKNESSES' id:812505496>]\n",
            "['__class__', '__delattr__', '__dict__', '__dir__', '__doc__', '__eq__', '__format__', '__ge__', '__getattribute__', '__gt__', '__hash__', '__init__', '__init_subclass__', '__le__', '__lt__', '__module__', '__ne__', '__new__', '__reduce__', '__reduce_ex__', '__repr__', '__setattr__', '__sizeof__', '__str__', '__subclasshook__', '__weakref__', '_finder', '_list_cells', '_properties', 'acell', 'add_cols', 'add_protected_range', 'add_rows', 'append_row', 'append_rows', 'batch_get', 'batch_update', 'cell', 'clear', 'clear_basic_filter', 'clear_note', 'client', 'col_count', 'col_values', 'copy_to', 'delete_columns', 'delete_dimension', 'delete_row', 'delete_rows', 'duplicate', 'export', 'find', 'findall', 'format', 'freeze', 'frozen_col_count', 'frozen_row_count', 'get', 'get_all_records', 'get_all_values', 'id', 'insert_cols', 'insert_note', 'insert_row', 'insert_rows', 'merge_cells', 'range', 'resize', 'row_count', 'row_values', 'set_basic_filter', 'sort', 'spreadsheet', 'title', 'update', 'update_acell', 'update_cell', 'update_cells', 'update_index', 'update_note', 'update_title', 'updated', 'url']\n",
            "[[8, 0.7], [9, 1], [4, 0.5], [10, 0.8], [5, 0.3], [3, 0.8]]\n",
            "C2\n",
            "\n",
            "Вывод таблицы\n",
            "['Name', 'Actions', 'Importance', 'Probability', 'Power']\n",
            "['Актуален и интересен как для детей, так и для взрослых', 'Привлечение населения через рекламу', '8', '0,7', '5,6']\n",
            "['Минимальная вероятность травмироваться', 'Наличие стационарного телефона позволит быстрее вызвать скорую помощь при необходимости. Опытные инструкторы также смогут оказать первую помощь', '9', '1', '9']\n",
            "['Разработанная система скидок', 'Скидки при первом посещении, для школ (ограниченная группа детей), для многодетных семей. Клубная карта', '4', '0,5', '2']\n",
            "['Положительное влияние на физическую активность людей', 'Разнообразие батутов и бассейнов с наполнителями', '10', '0,8', '8']\n",
            "['Расположение в центре города (недалеко от школы)', 'Наличие автобусных остановок и парковки в непосредственной близости позволит увеличить поток клиентов', '5', '0,3', '1,5']\n",
            "['Возможность получения прибыли', 'Составление бизнес-плана с учётом отсутствия на местном рынке подобного рода развлечений.', '3', '0,8', '2,4']\n",
            "\n",
            "\n",
            "total 14\n",
            "-rw------- 1 root   151 Mar  3 15:18 task.gsheet\n",
            "-rw------- 1 root 12892 Mar  3 15:11 импорт.ipynb\n",
            "Wed Mar  3 15:18:33 MSK 2021\n"
          ],
          "name": "stdout"
        }
      ]
    },
    {
      "cell_type": "code",
      "metadata": {
        "colab": {
          "base_uri": "https://localhost:8080/",
          "height": 399
        },
        "id": "8L6L8q1l3jl2",
        "outputId": "a66e5efe-f713-4b51-af8a-44994b6071d4"
      },
      "source": [
        "import matplotlib\r\n",
        "import matplotlib.pyplot as plt\r\n",
        "import numpy as np\r\n",
        "worksheet = table.worksheet('STRENGTHS')\r\n",
        "\r\n",
        "a = worksheet.row_values(2)\r\n",
        "b = worksheet.row_values(3)\r\n",
        "c = worksheet.row_values(4)\r\n",
        "d = worksheet.row_values(5)\r\n",
        "e = worksheet.row_values(6) \r\n",
        "f = worksheet.row_values(7)\r\n",
        "pow = [a[4], b[4], c[4], d[4], e[4],f[4]]\r\n",
        "design = [a[0], b[0], c[0], d[0], e[0],f[0]]\r\n",
        "labels = ['1', '2', '3', '4', '5', '6']\r\n",
        "\r\n",
        "x = np.arange(len(labels))\r\n",
        "width = 0.35  # the width of the bars\r\n",
        "\r\n",
        "fig, ax = plt.subplots()\r\n",
        "rects = ax.bar(x, pow, width)\r\n",
        "\r\n",
        "ax.set_ylabel('Мощность воздействия')\r\n",
        "ax.set_xlabel('Обозначения')\r\n",
        "ax.set_title('Диаграмма STRENGTHS')\r\n",
        "ax.set_xticks(x)\r\n",
        "ax.set_xticklabels(labels)\r\n",
        "\r\n",
        "fig.tight_layout()\r\n",
        "\r\n",
        "plt.grid()\r\n",
        "plt.show()\r\n",
        "\r\n",
        "k = 1\r\n",
        "for k in range(6):\r\n",
        "  print(k+1, '-', design[k])\r\n",
        "  k += 1\r\n",
        "\r\n"
      ],
      "execution_count": 276,
      "outputs": [
        {
          "output_type": "display_data",
          "data": {
            "image/png": "[encoded data removed]",
            "text/plain": [
              "<Figure size 432x288 with 1 Axes>"
            ]
          },
          "metadata": {
            "tags": [],
            "needs_background": "light"
          }
        },
        {
          "output_type": "stream",
          "text": [
            "1 - Актуален и интересен как для детей, так и для взрослых\n",
            "2 - Минимальная вероятность травмироваться\n",
            "3 - Разработанная система скидок\n",
            "4 - Положительное влияние на физическую активность людей\n",
            "5 - Расположение в центре города (недалеко от школы)\n",
            "6 - Возможность получения прибыли\n"
          ],
          "name": "stdout"
        }
      ]
    },
    {
      "cell_type": "markdown",
      "metadata": {
        "id": "Gq0X-h1I_7Yt"
      },
      "source": [
        "# Лист WEAKNESSES"
      ]
    },
    {
      "cell_type": "code",
      "metadata": {
        "colab": {
          "base_uri": "https://localhost:8080/"
        },
        "id": "I83A0TmTAE8X",
        "outputId": "6f9649c7-499e-43a3-cbe5-2ed28bd7bc49"
      },
      "source": [
        "print('\\nРаботаем с листом WEAKNESSES')\r\n",
        "print(table.worksheets())\r\n",
        "try:\r\n",
        "  worksheet = table.worksheet('WEAKNESSES')\r\n",
        "except Exception as mistake:\r\n",
        "    print('\\n',mistake)\r\n",
        "    print(\"Необходимо создать лист\\n\")\r\n",
        "    worksheet = table.add_worksheet(\"WEAKNESSES\",100,100)\r\n",
        "print(dir(worksheet))\r\n",
        "rows = worksheet.get_all_values()\r\n",
        "\r\n",
        "#Вносим данные importance и probability в таблицу\r\n",
        "value_sh = [[6,0.3],[8,0.9],[9,0.5],[4,0.7],[2,0.1]]\r\n",
        "print(value_sh)\r\n",
        "cell_list = 'C2'\r\n",
        "print(cell_list)\r\n",
        "worksheet.update(cell_list, value_sh)\r\n",
        "\r\n",
        "b = 0\r\n",
        "print(\"\\nВывод таблицы\")\r\n",
        "for row in rows:\r\n",
        "  print(row)\r\n",
        "  b += 1\r\n",
        "\r\n",
        "print(\"\\n\")\r\n",
        "time.sleep(10)\r\n",
        "%ll -lAF /content/drive/MyDrive/SWOT\r\n",
        "os.listdir('/content/drive/MyDrive/SWOT')\r\n",
        "!date"
      ],
      "execution_count": null,
      "outputs": [
        {
          "output_type": "stream",
          "text": [
            "\n",
            "Работаем с листом WEAKNESSES\n",
            "[<Worksheet 'STRENGTHS' id:686429458>, <Worksheet 'WEAKNESSES' id:812505496>, <Worksheet 'OPPORTUNITIES' id:548352961>]\n",
            "['__class__', '__delattr__', '__dict__', '__dir__', '__doc__', '__eq__', '__format__', '__ge__', '__getattribute__', '__gt__', '__hash__', '__init__', '__init_subclass__', '__le__', '__lt__', '__module__', '__ne__', '__new__', '__reduce__', '__reduce_ex__', '__repr__', '__setattr__', '__sizeof__', '__str__', '__subclasshook__', '__weakref__', '_finder', '_list_cells', '_properties', 'acell', 'add_cols', 'add_protected_range', 'add_rows', 'append_row', 'append_rows', 'batch_get', 'batch_update', 'cell', 'clear', 'clear_basic_filter', 'clear_note', 'client', 'col_count', 'col_values', 'copy_to', 'delete_columns', 'delete_dimension', 'delete_row', 'delete_rows', 'duplicate', 'export', 'find', 'findall', 'format', 'freeze', 'frozen_col_count', 'frozen_row_count', 'get', 'get_all_records', 'get_all_values', 'id', 'insert_cols', 'insert_note', 'insert_row', 'insert_rows', 'merge_cells', 'range', 'resize', 'row_count', 'row_values', 'set_basic_filter', 'sort', 'spreadsheet', 'title', 'update', 'update_acell', 'update_cell', 'update_cells', 'update_index', 'update_note', 'update_title', 'updated', 'url']\n",
            "[[6, 0.3], [8, 0.9], [9, 0.5], [4, 0.7], [2, 0.1]]\n",
            "C2\n",
            "\n",
            "Вывод таблицы\n",
            "['Name', 'Actions', 'Importance', 'Probability', 'Power']\n",
            "['Ограничения по здоровью и возрасту', 'Заполнение посетителями анкеты, в которой они письменно подтверждают отсутствие медицинских противопоказаний. Определение факторов, ограничивающих посещение батутного центра ввиду болезни, возраста и пр.', '6', '0,3', '1,80']\n",
            "['Длительное оформление эксплуатационной документации', 'Поиск помещения, удовлетворяющего формально закрепленным требованиям (необходимая площадь, высота потолков). Пользование услугами юриста', '8', '0,9', '7,20']\n",
            "['Дефицит квалифицированных кадров (инструкторы)', 'Выделение средств на привлечение профессиональных работников', '9', '0,5', '4,50']\n",
            "['Небольшая вместимость', 'Предоставление скидок в будние дни, возможность бронирования, увеличение часов работы. В перспективе - строительство собственного здания.', '4', '0,7', '2,80']\n",
            "['Отстутствие душевых', 'Продажа гигиенических средств (дезодоранты, сухие шампуни, жидкое мыло, влажные салфетки и пр.)', '2', '0,1', '0,20']\n",
            "\n",
            "\n",
            "total 23\n",
            "-rw------- 1 root   151 Mar  3 15:35 task.gsheet\n",
            "-rw------- 1 root 22273 Mar  3 15:35 импорт.ipynb\n",
            "Wed Mar  3 15:35:59 MSK 2021\n"
          ],
          "name": "stdout"
        }
      ]
    },
    {
      "cell_type": "code",
      "metadata": {
        "colab": {
          "base_uri": "https://localhost:8080/",
          "height": 382
        },
        "id": "NRtfWXEdY8pp",
        "outputId": "2e1ca50f-c60d-4058-ebf5-7531291c3234"
      },
      "source": [
        "import matplotlib\r\n",
        "import matplotlib.pyplot as plt\r\n",
        "import numpy as np\r\n",
        "worksheet = table.worksheet('WEAKNESSES')\r\n",
        "\r\n",
        "a = worksheet.row_values(2)\r\n",
        "b = worksheet.row_values(3)\r\n",
        "c = worksheet.row_values(4)\r\n",
        "d = worksheet.row_values(5)\r\n",
        "e = worksheet.row_values(6) \r\n",
        "pow = [a[4], b[4], c[4], d[4], e[4]]\r\n",
        "design = [a[0], b[0], c[0], d[0], e[0]]\r\n",
        "labels = ['1', '2', '3', '4', '5']\r\n",
        "\r\n",
        "x = np.arange(len(labels))\r\n",
        "width = 0.35  # the width of the bars\r\n",
        "\r\n",
        "fig, ax = plt.subplots()\r\n",
        "rects = ax.bar(x, pow, width)\r\n",
        "\r\n",
        "ax.set_ylabel('Мощность воздействия')\r\n",
        "ax.set_xlabel('Обозначения')\r\n",
        "ax.set_title('Диаграмма WEAKNESSES')\r\n",
        "ax.set_xticks(x)\r\n",
        "ax.set_xticklabels(labels)\r\n",
        "\r\n",
        "def autolabel(rects):\r\n",
        "    \"\"\"Attach a text label above each bar in *rects*, displaying its height.\"\"\"\r\n",
        "    for rect in rects:\r\n",
        "        height = rect.get_height()\r\n",
        "        ax.annotate('{}'.format(height),\r\n",
        "                    xy=(rect.get_x() + rect.get_width() / 2, height),\r\n",
        "                    xytext=(0, 3),  # 3 points vertical offset\r\n",
        "                    textcoords=\"offset points\",\r\n",
        "                    ha='center', va='bottom')\r\n",
        "\r\n",
        "\r\n",
        "autolabel(rects)\r\n",
        "\r\n",
        "fig.tight_layout()\r\n",
        "\r\n",
        "plt.grid()\r\n",
        "plt.show()\r\n",
        "\r\n",
        "k = 1\r\n",
        "for k in range(5):\r\n",
        "  print(k+1, '-', design[k])\r\n",
        "  k += 1\r\n"
      ],
      "execution_count": 269,
      "outputs": [
        {
          "output_type": "display_data",
          "data": {
            "image/png": "[encoded data removed]",
            "text/plain": [
              "<Figure size 432x288 with 1 Axes>"
            ]
          },
          "metadata": {
            "tags": [],
            "needs_background": "light"
          }
        },
        {
          "output_type": "stream",
          "text": [
            "1 - Ограничения по здоровью и возрасту\n",
            "2 - Длительное оформление эксплуатационной документации\n",
            "3 - Дефицит квалифицированных кадров (инструкторы)\n",
            "4 - Небольшая вместимость\n",
            "5 - Отстутствие душевых\n"
          ],
          "name": "stdout"
        }
      ]
    },
    {
      "cell_type": "markdown",
      "metadata": {
        "id": "IsDJ98CACi7L"
      },
      "source": [
        "# Лист OPPORTUNITIES "
      ]
    },
    {
      "cell_type": "code",
      "metadata": {
        "colab": {
          "base_uri": "https://localhost:8080/"
        },
        "id": "oGLb9D4DC1pT",
        "outputId": "59f0c316-179d-405d-8560-58f69b9e7dc7"
      },
      "source": [
        "print('\\nРаботаем с листом OPPORTUNITIES')\r\n",
        "print(table.worksheets())\r\n",
        "try:\r\n",
        "  worksheet = table.worksheet('OPPORTUNITIES')\r\n",
        "except Exception as mistake:\r\n",
        "    print('\\n',mistake)\r\n",
        "    print(\"Необходимо создать лист\\n\")\r\n",
        "    worksheet = table.add_worksheet(\"OPPORTUNITIES\",100,100)\r\n",
        "print(dir(worksheet))\r\n",
        "rows = worksheet.get_all_values()\r\n",
        "\r\n",
        "#Вносим данные importance и probability в таблицу\r\n",
        "value_sh = [[4,0.6],[10,0.9],[7,0.4],[5,0.6],[3,0.7]]\r\n",
        "print(value_sh)\r\n",
        "cell_list = 'C2'\r\n",
        "print(cell_list)\r\n",
        "worksheet.update(cell_list, value_sh)\r\n",
        "\r\n",
        "b = 0\r\n",
        "print(\"\\nВывод таблицы\")\r\n",
        "for row in rows:\r\n",
        "  print(row)\r\n",
        "  b += 1\r\n",
        "\r\n",
        "\r\n",
        "print(\"\\n\")\r\n",
        "time.sleep(10)\r\n",
        "%ll -lAF /content/drive/MyDrive/SWOT\r\n",
        "os.listdir('/content/drive/MyDrive/SWOT')\r\n",
        "!date"
      ],
      "execution_count": null,
      "outputs": [
        {
          "output_type": "stream",
          "text": [
            "\n",
            "Работаем с листом OPPORTUNITIES\n",
            "[<Worksheet 'STRENGTHS' id:686429458>, <Worksheet 'WEAKNESSES' id:812505496>, <Worksheet 'OPPORTUNITIES' id:548352961>]\n",
            "['__class__', '__delattr__', '__dict__', '__dir__', '__doc__', '__eq__', '__format__', '__ge__', '__getattribute__', '__gt__', '__hash__', '__init__', '__init_subclass__', '__le__', '__lt__', '__module__', '__ne__', '__new__', '__reduce__', '__reduce_ex__', '__repr__', '__setattr__', '__sizeof__', '__str__', '__subclasshook__', '__weakref__', '_finder', '_list_cells', '_properties', 'acell', 'add_cols', 'add_protected_range', 'add_rows', 'append_row', 'append_rows', 'batch_get', 'batch_update', 'cell', 'clear', 'clear_basic_filter', 'clear_note', 'client', 'col_count', 'col_values', 'copy_to', 'delete_columns', 'delete_dimension', 'delete_row', 'delete_rows', 'duplicate', 'export', 'find', 'findall', 'format', 'freeze', 'frozen_col_count', 'frozen_row_count', 'get', 'get_all_records', 'get_all_values', 'id', 'insert_cols', 'insert_note', 'insert_row', 'insert_rows', 'merge_cells', 'range', 'resize', 'row_count', 'row_values', 'set_basic_filter', 'sort', 'spreadsheet', 'title', 'update', 'update_acell', 'update_cell', 'update_cells', 'update_index', 'update_note', 'update_title', 'updated', 'url']\n",
            "[[4, 0.6], [10, 0.9], [7, 0.4], [5, 0.6], [3, 0.7]]\n",
            "C2\n",
            "\n",
            "Вывод таблицы\n",
            "['Name', 'Actions', 'Importance', 'Probability', 'Power']\n",
            "['Сотрудничество с администрацией города, физическими и юридическими лицами', 'Выездной батут (дополнительное развлечение для гостей мероприятия), партнёрство (спортивные соревнования)', '4', '0,6', '2,40']\n",
            "['Совершенствование качества обслуживания', 'Обучение персонала оказанию первой помощи, подбор квалифицированных кадров с образованием, касающимся физической подготовки', '10', '0,9', '9,00']\n",
            "['Расширение предлагаемых услуг', 'Открытие кафе в батутном центре (создание тематического меню)', '7', '0,4', '2,80']\n",
            "['Льготные условия при получении кредита', 'Сбербанк \"Кредит с поручителем\" (ставка от 11,9%); Райффайзенбанк \"Инвестиционный\" (ставка от 10%); Восточный \"Кредит на развитие бизнеса\" (ставка от 10%) и т.д. Также минимизируем величину кредита за счет аренды помещения', '5', '0,6', '3,00']\n",
            "['Спрос на предоставляемые услуги', 'Обусловлен стремлением весело и безопасно провести свободное время. Реклама в Интернете, на билбордах, по радио и местному телевидению', '3', '0,7', '2,10']\n",
            "\n",
            "\n",
            "total 23\n",
            "-rw------- 1 root   151 Mar  3 15:35 task.gsheet\n",
            "-rw------- 1 root 22273 Mar  3 15:35 импорт.ipynb\n",
            "Wed Mar  3 15:36:16 MSK 2021\n"
          ],
          "name": "stdout"
        }
      ]
    },
    {
      "cell_type": "code",
      "metadata": {
        "colab": {
          "base_uri": "https://localhost:8080/",
          "height": 382
        },
        "id": "hGNwF8Q5ZSLU",
        "outputId": "f0eb194b-79f8-42ea-a74f-07280a11c9a9"
      },
      "source": [
        "import matplotlib\r\n",
        "import matplotlib.pyplot as plt\r\n",
        "import numpy as np\r\n",
        "worksheet = table.worksheet('OPPORTUNITIES')\r\n",
        "\r\n",
        "a = worksheet.row_values(2)\r\n",
        "b = worksheet.row_values(3)\r\n",
        "c = worksheet.row_values(4)\r\n",
        "d = worksheet.row_values(5)\r\n",
        "e = worksheet.row_values(6) \r\n",
        "pow = [a[4], b[4], c[4], d[4], e[4]]\r\n",
        "design = [a[0], b[0], c[0], d[0], e[0]]\r\n",
        "labels = ['1', '2', '3', '4', '5']\r\n",
        "\r\n",
        "x = np.arange(len(labels))\r\n",
        "width = 0.35  # the width of the bars\r\n",
        "\r\n",
        "fig, ax = plt.subplots()\r\n",
        "rects = ax.bar(x, pow, width)\r\n",
        "\r\n",
        "ax.set_ylabel('Мощность воздействия')\r\n",
        "ax.set_xlabel('Обозначения')\r\n",
        "ax.set_title('Диаграмма OPPORTUNITIES')\r\n",
        "ax.set_xticks(x)\r\n",
        "ax.set_xticklabels(labels)\r\n",
        "\r\n",
        "def autolabel(rects):\r\n",
        "    \"\"\"Attach a text label above each bar in *rects*, displaying its height.\"\"\"\r\n",
        "    for rect in rects:\r\n",
        "        height = rect.get_height()\r\n",
        "        ax.annotate('{}'.format(height),\r\n",
        "                    xy=(rect.get_x() + rect.get_width() / 2, height),\r\n",
        "                    xytext=(0, 3),  # 3 points vertical offset\r\n",
        "                    textcoords=\"offset points\",\r\n",
        "                    ha='center', va='bottom')\r\n",
        "\r\n",
        "\r\n",
        "autolabel(rects)\r\n",
        "\r\n",
        "fig.tight_layout()\r\n",
        "\r\n",
        "plt.grid()\r\n",
        "plt.show()\r\n",
        "\r\n",
        "k = 1\r\n",
        "for k in range(5):\r\n",
        "  print(k+1, '-', design[k])\r\n",
        "  k += 1"
      ],
      "execution_count": 270,
      "outputs": [
        {
          "output_type": "display_data",
          "data": {
            "image/png": "[encoded data removed]",
            "text/plain": [
              "<Figure size 432x288 with 1 Axes>"
            ]
          },
          "metadata": {
            "tags": [],
            "needs_background": "light"
          }
        },
        {
          "output_type": "stream",
          "text": [
            "1 - Сотрудничество с администрацией города, физическими и юридическими лицами\n",
            "2 - Совершенствование качества обслуживания\n",
            "3 - Расширение предлагаемых услуг\n",
            "4 - Льготные условия при получении кредита\n",
            "5 - Спрос на предоставляемые услуги\n"
          ],
          "name": "stdout"
        }
      ]
    },
    {
      "cell_type": "markdown",
      "metadata": {
        "id": "fVIqtIQuFwCp"
      },
      "source": [
        "# Лист THREATS (создание через python)"
      ]
    },
    {
      "cell_type": "code",
      "metadata": {
        "colab": {
          "base_uri": "https://localhost:8080/"
        },
        "id": "UxIT8JHxF6sv",
        "outputId": "8151aa10-e07e-4cbe-c008-afc6a1871bfa"
      },
      "source": [
        "print('\\nРаботаем с листом THREATS')\r\n",
        "print(table.worksheets())\r\n",
        "try:\r\n",
        "  worksheet = table.worksheet('THREATS')\r\n",
        "except Exception as mistake:\r\n",
        "    print('\\n',mistake)\r\n",
        "    print(\"Необходимо создать лист\\n\")\r\n",
        "    worksheet = table.add_worksheet(\"THREATS\",100,100)\r\n",
        "print(dir(worksheet))\r\n",
        "rows = worksheet.get_all_values()\r\n",
        "\r\n",
        "print(\"\\n\")\r\n",
        "time.sleep(10)\r\n",
        "%ll -lAF /content/drive/MyDrive/SWOT\r\n",
        "os.listdir('/content/drive/MyDrive/SWOT')\r\n",
        "!date"
      ],
      "execution_count": null,
      "outputs": [
        {
          "output_type": "stream",
          "text": [
            "\n",
            "Работаем с листом THREATS\n",
            "[<Worksheet 'STRENGTHS' id:686429458>, <Worksheet 'WEAKNESSES' id:812505496>, <Worksheet 'OPPORTUNITIES' id:548352961>]\n",
            "\n",
            " THREATS\n",
            "Необходимо создать лист\n",
            "\n",
            "['__class__', '__delattr__', '__dict__', '__dir__', '__doc__', '__eq__', '__format__', '__ge__', '__getattribute__', '__gt__', '__hash__', '__init__', '__init_subclass__', '__le__', '__lt__', '__module__', '__ne__', '__new__', '__reduce__', '__reduce_ex__', '__repr__', '__setattr__', '__sizeof__', '__str__', '__subclasshook__', '__weakref__', '_finder', '_list_cells', '_properties', 'acell', 'add_cols', 'add_protected_range', 'add_rows', 'append_row', 'append_rows', 'batch_get', 'batch_update', 'cell', 'clear', 'clear_basic_filter', 'clear_note', 'client', 'col_count', 'col_values', 'copy_to', 'delete_columns', 'delete_dimension', 'delete_row', 'delete_rows', 'duplicate', 'export', 'find', 'findall', 'format', 'freeze', 'frozen_col_count', 'frozen_row_count', 'get', 'get_all_records', 'get_all_values', 'id', 'insert_cols', 'insert_note', 'insert_row', 'insert_rows', 'merge_cells', 'range', 'resize', 'row_count', 'row_values', 'set_basic_filter', 'sort', 'spreadsheet', 'title', 'update', 'update_acell', 'update_cell', 'update_cells', 'update_index', 'update_note', 'update_title', 'updated', 'url']\n",
            "\n",
            "\n",
            "total 24\n",
            "-rw------- 1 root   151 Mar  3 15:35 task.gsheet\n",
            "-rw------- 1 root 23171 Mar  3 15:37 импорт.ipynb\n",
            "Wed Mar  3 15:38:14 MSK 2021\n"
          ],
          "name": "stdout"
        }
      ]
    },
    {
      "cell_type": "code",
      "metadata": {
        "colab": {
          "base_uri": "https://localhost:8080/"
        },
        "id": "BpGWJ7iVGJQ3",
        "outputId": "b7c20386-9e84-4500-b1da-d39e439c9a17"
      },
      "source": [
        "print('\\nПродолжаем работу с листом THREATS')\r\n",
        "print(table.worksheets())\r\n",
        "worksheet = table.worksheet('THREATS')\r\n",
        "rows = worksheet.get_all_values()\r\n",
        "\r\n",
        "#Вносим все данные в таблицу\r\n",
        "names_sh = [[\"Name\",\"Actions\",\"Importance\",\"Probability\",\"Power\"]] \r\n",
        "print(names_sh) \r\n",
        "value_sh = [[\"Чрезвычайные ситуации\",\"Установка пожарной сигнализации и видеонаблюдения позволит минимизировать риск катастроф\",9,0.8],[\"Появление новых конкурентов\",\"Нейтрализуем качеством, новыми услугами, доступностью и рекламой\",5,0.7],[\"Временные ограничения (COVID-19)\",\"Оформление объявления о необходимости соблюдать дистанцию и надевать маску при входе в батутный центр, сокращение заполняемости центра согласно требованиям Роспотребнадзора. Увеличение цен, сокращение рабочего дня и числа работающих залов.\",10,0.2],[\"Экономическая нестабильность клиентов\",\"Уменьшение стоимости посещения, предоставление определённых услуг (расчёт стоимости посещения исходя из времени, проведённого посетителем в центре)\",2,1]]\r\n",
        "print(value_sh)\r\n",
        "cell_list = 'A2'\r\n",
        "print(cell_list)\r\n",
        "second_cell_list = 'A1'\r\n",
        "worksheet.update(second_cell_list, names_sh)\r\n",
        "worksheet.update(cell_list, value_sh)\r\n",
        "\r\n",
        "b = 0\r\n",
        "print(\"\\nВывод таблицы\")\r\n",
        "for row in rows:\r\n",
        "  print(row)\r\n",
        "  b += 1\r\n",
        "\r\n",
        "\r\n",
        "print(\"\\n\")\r\n",
        "time.sleep(10)\r\n",
        "%ll -lAF /content/drive/MyDrive/SWOT\r\n",
        "os.listdir('/content/drive/MyDrive/SWOT')\r\n",
        "!date"
      ],
      "execution_count": null,
      "outputs": [
        {
          "output_type": "stream",
          "text": [
            "\n",
            "Продолжаем работу с листом THREATS\n",
            "[<Worksheet 'STRENGTHS' id:686429458>, <Worksheet 'WEAKNESSES' id:812505496>, <Worksheet 'OPPORTUNITIES' id:548352961>, <Worksheet 'THREATS' id:774998521>]\n",
            "[['Name', 'Actions', 'Importance', 'Probability', 'Power']]\n",
            "[['Чрезвычайные ситуации', 'Установка пожарной сигнализации и видеонаблюдения позволит минимизировать риск катастроф', 9, 0.8], ['Появление новых конкурентов', 'Нейтрализуем качеством, новыми услугами, доступностью и рекламой', 5, 0.7], ['Временные ограничения (COVID-19)', 'Оформление объявления о необходимости соблюдать дистанцию и надевать маску при входе в батутный центр, сокращение заполняемости центра согласно требованиям Роспотребнадзора. Увеличение цен, сокращение рабочего дня и числа работающих залов.', 10, 0.2], ['Экономическая нестабильность клиентов', 'Уменьшение стоимости посещения, предоставление определённых услуг (расчёт стоимости посещения исходя из времени, проведённого посетителем в центре)', 2, 1]]\n",
            "A2\n",
            "\n",
            "Вывод таблицы\n",
            "['Name', 'Actions', 'Importance', 'Probability', 'Power']\n",
            "['Чрезвычайные ситуации', 'Установка пожарной сигнализации и видеонаблюдения позволит минимизировать риск катастроф', '9', '0,8', '7,20']\n",
            "['Появление новых конкурентов', 'Нейтрализуем качеством, новыми услугами, доступностью и рекламой', '5', '0,7', '3,50']\n",
            "['Временные ограничения (COVID-19)', 'Оформление объявления о необходимости соблюдать дистанцию и надевать маску при входе в батутный центр, сокращение заполняемости центра согласно требованиям Роспотребнадзора. Увеличение цен, сокращение рабочего дня и числа работающих залов.', '10', '0,2', '2,00']\n",
            "['Экономическая нестабильность клиентов', 'Уменьшение стоимости посещения, предоставление определённых услуг (расчёт стоимости посещения исходя из времени, проведённого посетителем в центре)', '2', '1', '2,00']\n",
            "\n",
            "\n",
            "total 31\n",
            "-rw------- 1 root   151 Mar  3 16:49 task.gsheet\n",
            "-rw------- 1 root 30521 Mar  3 16:49 импорт.ipynb\n",
            "Wed Mar  3 16:49:49 MSK 2021\n"
          ],
          "name": "stdout"
        }
      ]
    },
    {
      "cell_type": "code",
      "metadata": {
        "colab": {
          "base_uri": "https://localhost:8080/",
          "height": 365
        },
        "id": "F-p35sp6ZnnF",
        "outputId": "53680e93-8857-4250-b198-2d3d8f28934a"
      },
      "source": [
        "import matplotlib\r\n",
        "import matplotlib.pyplot as plt\r\n",
        "import numpy as np\r\n",
        "worksheet = table.worksheet('THREATS')\r\n",
        "\r\n",
        "a = worksheet.row_values(2)\r\n",
        "b = worksheet.row_values(3)\r\n",
        "c = worksheet.row_values(4)\r\n",
        "d = worksheet.row_values(5)\r\n",
        "pow = [a[4], b[4], c[4], d[4]]\r\n",
        "labels = ['1', '2', '3', '4']\r\n",
        "\r\n",
        "x = np.arange(len(labels))\r\n",
        "width = 0.35  # the width of the bars\r\n",
        "\r\n",
        "fig, ax = plt.subplots()\r\n",
        "rect = ax.bar(x, pow, width)\r\n",
        "\r\n",
        "ax.set_ylabel('Мощность воздействия')\r\n",
        "ax.set_xlabel('Обозначения')\r\n",
        "ax.set_title('Диаграмма THREATS')\r\n",
        "ax.set_xticks(x)\r\n",
        "ax.set_xticklabels(labels)\r\n",
        "\r\n",
        "def autolabel(rects):\r\n",
        "    \"\"\"Attach a text label above each bar in *rects*, displaying its height.\"\"\"\r\n",
        "    for rect in rects:\r\n",
        "        height = rect.get_height()\r\n",
        "        ax.annotate('{}'.format(height),\r\n",
        "                    xy=(rect.get_x() + rect.get_width() / 2, height),\r\n",
        "                    xytext=(0, 3),  # 3 points vertical offset\r\n",
        "                    textcoords=\"offset points\",\r\n",
        "                    ha='center', va='bottom')\r\n",
        "\r\n",
        "\r\n",
        "autolabel(rect)\r\n",
        "\r\n",
        "fig.tight_layout()\r\n",
        "\r\n",
        "plt.grid()\r\n",
        "plt.show()\r\n",
        "\r\n",
        "k = 1\r\n",
        "for k in range(4):\r\n",
        "  print(k+1, '-', design[k])\r\n",
        "  k += 1"
      ],
      "execution_count": 271,
      "outputs": [
        {
          "output_type": "display_data",
          "data": {
            "image/png": "[encoded data removed]",
            "text/plain": [
              "<Figure size 432x288 with 1 Axes>"
            ]
          },
          "metadata": {
            "tags": [],
            "needs_background": "light"
          }
        },
        {
          "output_type": "stream",
          "text": [
            "1 - Сотрудничество с администрацией города, физическими и юридическими лицами\n",
            "2 - Совершенствование качества обслуживания\n",
            "3 - Расширение предлагаемых услуг\n",
            "4 - Льготные условия при получении кредита\n"
          ],
          "name": "stdout"
        }
      ]
    },
    {
      "cell_type": "markdown",
      "metadata": {
        "id": "-8gDukwokyv9"
      },
      "source": [
        "# Итоговая диаграмма"
      ]
    },
    {
      "cell_type": "code",
      "metadata": {
        "id": "3hxNCBThf_RL",
        "colab": {
          "base_uri": "https://localhost:8080/",
          "height": 858
        },
        "outputId": "cc8f412a-9865-48a5-eb48-9b695d7d5bf6"
      },
      "source": [
        "import json\r\n",
        "\r\n",
        "def matplot(element):\r\n",
        "    import matplotlib.pyplot as plt\r\n",
        "    x=list()\r\n",
        "    x_float=list()\r\n",
        "    title=list()\r\n",
        "    y_float=list()\r\n",
        "    \r\n",
        "    print('\\n<!!--matplot_data')\r\n",
        "    \r\n",
        "    read_file = open (\"/content/drive/MyDrive/SWOT/swot_dictionary11.json\", mode='r', encoding=\"utf-8\")\r\n",
        "    i=0\r\n",
        "    !date\r\n",
        "    for line in read_file.readlines():\r\n",
        "        print('\\n<br>1', line, end=\"\")\r\n",
        "        i+=1\r\n",
        "        data = json.loads(line)\r\n",
        "        print('\\n<br>', data, end=\"\")\r\n",
        "        print('\\n<br>')\r\n",
        "        title = [ \"strengths\", \"weaknesses\", \"opportunities\", \"threats\", \"result\"]\r\n",
        "        x=title\r\n",
        "        x_float = [1, 2, 3, 4, 5]\r\n",
        "        #title.append(data['name'])\r\n",
        "        result = float(data['strengths']) - 1*float(data['weaknesses']) + float(data['opportunities']) - 1*float(data['threats'])\r\n",
        "        y = [float(data['strengths']), float(data['weaknesses']), float(data['opportunities']), float(data['threats'])]\r\n",
        "        y_float = [float(data['strengths']), -1*float(data['weaknesses']), float(data['opportunities']), -1*float(data['threats']),  result]\r\n",
        "        print(x_float,title,y_float)\r\n",
        "    print('списки формированы-->\\n')\r\n",
        "    read_file.close()\r\n",
        "    x_pos=list()\r\n",
        "    for i in range(x_float.__len__()):\r\n",
        "        x_pos.append(i)\r\n",
        "    print('<!--разбивка по абсцисс и значения ординат\\n', len( x_float), x_pos, y_float, ' -->\\n')\r\n",
        "\r\n",
        "    fig=plt.figure(figsize=(8,6), dpi=72)\r\n",
        "    plt.bar(x_pos, y_float, width=0.75, align='edge', alpha=0.4)\r\n",
        "    plt.xticks(x_pos,  x_float, fontsize=14)\r\n",
        "    plt.xlabel('Обозначения1', fontsize=14)\r\n",
        "    plt.ylabel('Мощность воздействия', fontsize=14)\r\n",
        "    plt.title('SWOT', fontsize=14)\r\n",
        "    plt.grid(True, color='r', linestyle='-', linewidth=2)\r\n",
        "    #plt.draw()\r\n",
        "    plt.show()\r\n",
        "    fig.savefig(\"/content/drive/MyDrive/SWOT/picture\")\r\n",
        "    print('<div class=\"d-flex flex-row \">')\r\n",
        "    print('<div class=\"card m-1\" style=\"width: 28rem;\">',\r\n",
        "          '<img  src=\"/content/drive/MyDrive/SWOT/picture\" class=\"card-img-top\" alt=\"...\">',\r\n",
        "          '<div class=\"card-body\">')\r\n",
        "    \r\n",
        "    for i in range(title.__len__()):\r\n",
        "        print(i+1, \" - \", title[i], \"; \")\r\n",
        "        i += 1\r\n",
        "    print('</div>', '</div>')\r\n",
        "    print('<div>')\r\n",
        "    !date\r\n",
        "    \r\n",
        "\r\n",
        "def  to_browser():\r\n",
        "    print(\"Content-type:text/html\\r\\n\")\r\n",
        "    print('\\n',\r\n",
        "    '\\n<html>\\n<head>\\n<title>SWOT</title>\\n<meta charset=\"UTF-8\">',\r\n",
        "    '\\n<meta name=\"viewport\" content=\"width=device-width, initial-scale=1.0\">',\r\n",
        "    '\\n<meta http-equiv=\"X-UA-Compatible\" content=\"ie=edge\">',\r\n",
        "    '\\n<link rel=\"stylesheet\" href=\"https://maxcdn.bootstrapcdn.com/bootstrap/4.0.0-beta/css/bootstrap.min.css\" integrity=\"sha384-/Y6pD6FV/Vv2HJnA6t+vslU6fwYXjCFtcEpHbNJ0lyAFsXTsjBbfaDjzALeQsN6M\" crossorigin=\"anonymous\">',\r\n",
        "    '\\n</head>',\r\n",
        "    '\\n<body>',\r\n",
        "    '\\n<div class=\"container-md mx-3\">'\r\n",
        "    )\r\n",
        "\r\n",
        "if __name__ == \"__main__\":\r\n",
        "    #to_browser()\r\n",
        "    element = 'swot_dictionary'\r\n",
        "    matplot(element)\r\n",
        "    #print(\"</div></body></html>\",)\r\n",
        "    !date\r\n"
      ],
      "execution_count": 144,
      "outputs": [
        {
          "output_type": "stream",
          "text": [
            "\n",
            "<!!--matplot_data\n",
            "Wed Mar  3 18:35:25 MSK 2021\n",
            "\n",
            "<br>1 {\"weaknesses\": 16.50, \"opportunities\": 19.30, \"strengths\": 28.50, \"threats\": 14.70}\n",
            "\n",
            "<br> {'weaknesses': 16.5, 'opportunities': 19.3, 'strengths': 28.5, 'threats': 14.7}\n",
            "<br>\n",
            "[1, 2, 3, 4, 5] ['strengths', 'weaknesses', 'opportunities', 'threats', 'result'] [28.5, -16.5, 19.3, -14.7, 16.6]\n",
            "списки формированы-->\n",
            "\n",
            "<!--разбивка по абсцисс и значения ординат\n",
            " 5 [0, 1, 2, 3, 4] [28.5, -16.5, 19.3, -14.7, 16.6]  -->\n",
            "\n"
          ],
          "name": "stdout"
        },
        {
          "output_type": "display_data",
          "data": {
            "image/png": "[encoded data removed]",
            "text/plain": [
              "<Figure size 576x432 with 1 Axes>"
            ]
          },
          "metadata": {
            "tags": [],
            "needs_background": "light"
          }
        },
        {
          "output_type": "stream",
          "text": [
            "<div class=\"d-flex flex-row \">\n",
            "<div class=\"card m-1\" style=\"width: 28rem;\"> <img  src=\"/content/drive/MyDrive/SWOT/picture\" class=\"card-img-top\" alt=\"...\"> <div class=\"card-body\">\n",
            "1  -  strengths ; \n",
            "2  -  weaknesses ; \n",
            "3  -  opportunities ; \n",
            "4  -  threats ; \n",
            "5  -  result ; \n",
            "</div> </div>\n",
            "<div>\n",
            "Wed Mar  3 18:35:26 MSK 2021\n",
            "Wed Mar  3 18:35:26 MSK 2021\n"
          ],
          "name": "stdout"
        }
      ]
    }
  ]
}